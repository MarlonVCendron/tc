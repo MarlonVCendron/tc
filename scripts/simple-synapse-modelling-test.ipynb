{
 "cells": [
  {
   "cell_type": "code",
   "execution_count": 1,
   "metadata": {},
   "outputs": [],
   "source": [
    "import matplotlib.pyplot as plt\n",
    "import numpy as np\n",
    "import ipywidgets as widgets\n",
    "from IPython.display import display\n"
   ]
  },
  {
   "cell_type": "code",
   "execution_count": 2,
   "metadata": {},
   "outputs": [],
   "source": [
    "def u(u_rest, u_reset, u_th, r, tau_m):\n",
    "    Lt = 1000\n",
    "    dt = 0.1\n",
    "    I = np.concatenate((np.zeros(200), np.ones(400), np.zeros(400)))\n",
    "    u_spike = 100\n",
    "\n",
    "    u = np.zeros(Lt)\n",
    "    u[0] = u_rest\n",
    "\n",
    "    for t in range(Lt - 1):\n",
    "        du = (-(u[t] -u_rest) + r * I[t]) * (dt / tau_m)\n",
    "        if u[t] >= u_th:\n",
    "            u[t] = u_spike\n",
    "            u[t+1] = u_reset\n",
    "        else:\n",
    "            u[t + 1] = u[t] + du\n",
    "\n",
    "    return u\n"
   ]
  },
  {
   "cell_type": "code",
   "execution_count": 3,
   "metadata": {},
   "outputs": [
    {
     "data": {
      "application/vnd.jupyter.widget-view+json": {
       "model_id": "a2830fba8d844512a36a7c0f486c52ea",
       "version_major": 2,
       "version_minor": 0
      },
      "text/plain": [
       "interactive(children=(FloatSlider(value=-70.0, description='u_rest', min=-100.0, step=1.0), FloatSlider(value=…"
      ]
     },
     "metadata": {},
     "output_type": "display_data"
    },
    {
     "data": {
      "text/plain": [
       "<function __main__.plot(u_rest=-70, u_reset=-80, u_th=30, r=100, tau_m=10)>"
      ]
     },
     "execution_count": 3,
     "metadata": {},
     "output_type": "execute_result"
    }
   ],
   "source": [
    "def plot(u_rest=-70, u_reset=-80, u_th=30, r=100, tau_m=10):\n",
    "    plt.plot(u(u_rest, u_reset, u_th, r, tau_m))\n",
    "    plt.title('Potencial de membrana')\n",
    "    plt.xlabel('t')\n",
    "    plt.ylabel('u')\n",
    "    plt.ylim(-100, 100)\n",
    "    plt.show()\n",
    "\n",
    "widgets.interact(plot, u_rest=(-100.0, 100.0, 1.0), u_reset=(-100.0, 100.0, 1.0), u_th=(-100.0, 100.0, 1.0), r=(0, 200.0, 1), tau_m=(0.1, 20.0, 0.1))"
   ]
  },
  {
   "cell_type": "code",
   "execution_count": null,
   "metadata": {},
   "outputs": [],
   "source": []
  }
 ],
 "metadata": {
  "kernelspec": {
   "display_name": "Python 3.10.9 64-bit",
   "language": "python",
   "name": "python3"
  },
  "language_info": {
   "codemirror_mode": {
    "name": "ipython",
    "version": 3
   },
   "file_extension": ".py",
   "mimetype": "text/x-python",
   "name": "python",
   "nbconvert_exporter": "python",
   "pygments_lexer": "ipython3",
   "version": "3.10.9"
  },
  "orig_nbformat": 4,
  "vscode": {
   "interpreter": {
    "hash": "e7370f93d1d0cde622a1f8e1c04877d8463912d04d973331ad4851f04de6915a"
   }
  }
 },
 "nbformat": 4,
 "nbformat_minor": 2
}
