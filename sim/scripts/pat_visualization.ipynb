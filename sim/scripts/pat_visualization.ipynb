{
 "cells": [
  {
   "cell_type": "code",
   "execution_count": 1,
   "metadata": {},
   "outputs": [],
   "source": [
    "import sys\n",
    "import os\n",
    "import numpy as np\n",
    "import matplotlib.pyplot as plt\n",
    "import seaborn as sns\n",
    "from matplotlib.gridspec import GridSpec\n",
    "\n",
    "from sklearn.decomposition import NMF, PCA\n",
    "\n",
    "from scipy.sparse import *\n",
    "from scipy.io import mmread\n",
    "\n",
    "# Import auryn tools\n",
    "sys.path.append(os.path.expanduser(\"/usr/local/auryn/tools/python/\"))\n",
    "from auryntools import *"
   ]
  },
  {
   "cell_type": "code",
   "execution_count": 2,
   "metadata": {},
   "outputs": [],
   "source": [
    "datadir = os.path.expanduser(\"../scripts/novos_padrões\")"
   ]
  },
  {
   "cell_type": "code",
   "execution_count": 34,
   "metadata": {},
   "outputs": [],
   "source": [
    "# Opens stim file\n",
    "patfile = np.loadtxt(\"%s/test.pat\"%(datadir))\n",
    "data = np.zeros(shape=(64, 64))\n",
    "for i,row in enumerate(patfile):\n",
    "    n,v = row\n",
    "    data[int(n) // 64, int(n) % 64] = v\n"
   ]
  },
  {
   "cell_type": "code",
   "execution_count": 35,
   "metadata": {},
   "outputs": [
    {
     "name": "stdout",
     "output_type": "stream",
     "text": [
      "940.0\n"
     ]
    }
   ],
   "source": [
    "# Plot data as an image\n",
    "\n",
    "print(np.sum(data))\n",
    "plt.imshow(data, cmap=\"gray\")\n",
    "plt.axis('off')\n",
    "# plt.show()\n",
    "\n",
    "plt.savefig('img_gen/diamond.png')\n",
    "plt.close()\n"
   ]
  },
  {
   "cell_type": "code",
   "execution_count": 17,
   "metadata": {},
   "outputs": [],
   "source": []
  },
  {
   "cell_type": "code",
   "execution_count": null,
   "metadata": {},
   "outputs": [],
   "source": []
  },
  {
   "cell_type": "code",
   "execution_count": null,
   "metadata": {},
   "outputs": [],
   "source": []
  }
 ],
 "metadata": {
  "kernelspec": {
   "display_name": "Python 3",
   "language": "python",
   "name": "python3"
  },
  "language_info": {
   "codemirror_mode": {
    "name": "ipython",
    "version": 3
   },
   "file_extension": ".py",
   "mimetype": "text/x-python",
   "name": "python",
   "nbconvert_exporter": "python",
   "pygments_lexer": "ipython3",
   "version": "3.11.5"
  }
 },
 "nbformat": 4,
 "nbformat_minor": 2
}
